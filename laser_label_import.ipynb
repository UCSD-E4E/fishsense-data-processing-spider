{
 "cells": [
  {
   "cell_type": "code",
   "execution_count": 1,
   "metadata": {},
   "outputs": [],
   "source": [
    "import urllib.parse\n",
    "from pathlib import Path\n",
    "\n",
    "import psycopg\n",
    "from psycopg.rows import dict_row\n",
    "from tqdm.auto import tqdm\n",
    "\n",
    "from fishsense_data_processing_spider.backend import get_project_export\n",
    "from fishsense_data_processing_spider.config import PG_CONN_STR, settings"
   ]
  },
  {
   "cell_type": "code",
   "execution_count": 2,
   "metadata": {},
   "outputs": [],
   "source": [
    "export = get_project_export(\n",
    "    project_id=10,\n",
    "    label_studio_api_key=settings.label_studio.api_key,\n",
    "    label_studio_host=settings.label_studio.host\n",
    ")"
   ]
  },
  {
   "cell_type": "code",
   "execution_count": 3,
   "metadata": {},
   "outputs": [],
   "source": [
    "image_paths = {task['id']: Path(urllib.parse.parse_qs(urllib.parse.urlparse(task['data']['img']).query)['d'][0]).relative_to(\n",
    "    'fs_png_labeling_project_laser/REEF/data').with_suffix('.ORF').as_posix() for task in export}"
   ]
  },
  {
   "cell_type": "code",
   "execution_count": 4,
   "metadata": {},
   "outputs": [],
   "source": [
    "with psycopg.connect(PG_CONN_STR, row_factory=dict_row) as con, con.cursor() as cur:\n",
    "    cur.execute('SELECT path, image_md5 FROM images;')\n",
    "    result = cur.fetchall()\n",
    "\n",
    "    cksum_lookup = {row['path']:row['image_md5'] for row in result}\n",
    "    task_id__cksums = {task_id:cksum_lookup[path] for task_id, path in image_paths.items() if path in cksum_lookup}\n",
    "\n",
    "    cur.executemany(\n",
    "        'INSERT INTO laser_labels (cksum, task_id) VALUES (%(cksum)s, %(task_id)s) ON CONFLICT DO NOTHING;',\n",
    "        [\n",
    "            {\n",
    "                'cksum': cksum,\n",
    "                'task_id': task_id\n",
    "            }\n",
    "            for task_id, cksum in task_id__cksums.items()\n",
    "        ]\n",
    "    )\n",
    "    con.commit()"
   ]
  },
  {
   "cell_type": "code",
   "execution_count": 5,
   "metadata": {},
   "outputs": [],
   "source": [
    "bad_paths = [path for path in image_paths.values() if path not in cksum_lookup]"
   ]
  },
  {
   "cell_type": "code",
   "execution_count": 6,
   "metadata": {},
   "outputs": [],
   "source": [
    "coords = {task['id']: (int(task['annotations'][0]['result'][0]['value']['x'] / 100 *\n",
    "                           task['annotations'][0]['result'][0]['original_width']),\n",
    "                       int(task['annotations'][0]['result'][0]['value']['y'] / 100 *\n",
    "                           task['annotations'][0]['result'][0]['original_height']))\n",
    "          for task in export\n",
    "          if len(task['annotations']) > 0 and len(task['annotations'][0]['result']) > 0}"
   ]
  },
  {
   "cell_type": "code",
   "execution_count": 7,
   "metadata": {},
   "outputs": [],
   "source": [
    "params_seq = [\n",
    "    {\n",
    "        'task_id': task_id,\n",
    "        'x': coord[0],\n",
    "        'y': coord[1]\n",
    "    }\n",
    "    for task_id, coord in coords.items()\n",
    "]"
   ]
  },
  {
   "cell_type": "code",
   "execution_count": 8,
   "metadata": {},
   "outputs": [],
   "source": [
    "with psycopg.connect(PG_CONN_STR, row_factory=dict_row) as con, con.cursor() as cur:\n",
    "    cur.executemany(\n",
    "        'UPDATE laser_labels SET x = %(x)s, y = %(y)s WHERE task_id = %(task_id)s;',\n",
    "        params_seq\n",
    "    )\n",
    "    con.commit()"
   ]
  },
  {
   "cell_type": "code",
   "execution_count": 9,
   "metadata": {},
   "outputs": [],
   "source": [
    "export = get_project_export(\n",
    "    project_id=39,\n",
    "    label_studio_api_key=settings.label_studio.api_key,\n",
    "    label_studio_host=settings.label_studio.host\n",
    ")"
   ]
  },
  {
   "cell_type": "code",
   "execution_count": 10,
   "metadata": {},
   "outputs": [],
   "source": [
    "param_seq = [{\n",
    "                'cksum': Path(urllib.parse.urlparse(task['data']['img']).path).stem,\n",
    "                'x': int(task['annotations'][0]['result'][0]['value']['x'] / 100 *\n",
    "                        task['annotations'][0]['result'][0]['original_width']),\n",
    "                'y': int(task['annotations'][0]['result'][0]['value']['y'] / 100 *\n",
    "                        task['annotations'][0]['result'][0]['original_height'])\n",
    "            }\n",
    "            for task in export\n",
    "            if len(task['annotations']) > 0 and len(task['annotations'][0]['result']) > 0\n",
    "            ]"
   ]
  },
  {
   "cell_type": "code",
   "execution_count": 11,
   "metadata": {},
   "outputs": [],
   "source": [
    "with psycopg.connect(PG_CONN_STR, row_factory=dict_row) as con, con.cursor() as cur:\n",
    "    cur.executemany(\n",
    "        'UPDATE laser_labels SET x = %(x)s, y = %(y)s WHERE cksum = %(cksum)s;',\n",
    "        param_seq\n",
    "    )\n",
    "    con.commit()"
   ]
  },
  {
   "cell_type": "code",
   "execution_count": null,
   "metadata": {},
   "outputs": [],
   "source": []
  }
 ],
 "metadata": {
  "kernelspec": {
   "display_name": ".venv",
   "language": "python",
   "name": "python3"
  },
  "language_info": {
   "codemirror_mode": {
    "name": "ipython",
    "version": 3
   },
   "file_extension": ".py",
   "mimetype": "text/x-python",
   "name": "python",
   "nbconvert_exporter": "python",
   "pygments_lexer": "ipython3",
   "version": "3.12.3"
  }
 },
 "nbformat": 4,
 "nbformat_minor": 2
}
