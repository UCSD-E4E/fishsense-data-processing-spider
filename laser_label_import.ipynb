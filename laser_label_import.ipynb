{
 "cells": [
  {
   "cell_type": "code",
   "execution_count": 1,
   "metadata": {},
   "outputs": [],
   "source": [
    "import urllib.parse\n",
    "from pathlib import Path\n",
    "\n",
    "import psycopg\n",
    "from psycopg.rows import dict_row\n",
    "from tqdm.auto import tqdm\n",
    "\n",
    "from fishsense_data_processing_spider.backend import get_project_export\n",
    "from fishsense_data_processing_spider.config import PG_CONN_STR, settings"
   ]
  },
  {
   "cell_type": "code",
   "execution_count": 2,
   "metadata": {},
   "outputs": [],
   "source": [
    "export = get_project_export(\n",
    "    project_id=10,\n",
    "    label_studio_api_key=settings.label_studio.api_key,\n",
    "    label_studio_host=settings.label_studio.host\n",
    ")"
   ]
  },
  {
   "cell_type": "code",
   "execution_count": 3,
   "metadata": {},
   "outputs": [],
   "source": [
    "image_paths = {task['id']: Path(urllib.parse.parse_qs(urllib.parse.urlparse(task['data']['img']).query)['d'][0]).relative_to(\n",
    "    'fs_png_labeling_project_laser/REEF/data').with_suffix('.ORF').as_posix() for task in export}"
   ]
  },
  {
   "cell_type": "code",
   "execution_count": 4,
   "metadata": {},
   "outputs": [],
   "source": [
    "coords = {task['id']: (int(task['annotations'][0]['result'][0]['value']['x'] / 100 *\n",
    "                           task['annotations'][0]['result'][0]['original_width']),\n",
    "                       int(task['annotations'][0]['result'][0]['value']['y'] / 100 *\n",
    "                           task['annotations'][0]['result'][0]['original_height']))\n",
    "          for task in export\n",
    "          if len(task['annotations']) > 0 and len(task['annotations'][0]['result']) > 0}"
   ]
  },
  {
   "cell_type": "code",
   "execution_count": 5,
   "metadata": {},
   "outputs": [
    {
     "data": {
      "application/vnd.jupyter.widget-view+json": {
       "model_id": "13d536592388437c890135dd64116f50",
       "version_major": 2,
       "version_minor": 0
      },
      "text/plain": [
       "  0%|          | 0/56912 [00:00<?, ?it/s]"
      ]
     },
     "metadata": {},
     "output_type": "display_data"
    }
   ],
   "source": [
    "bad_task_id = []\n",
    "import_values = []\n",
    "with psycopg.connect(PG_CONN_STR, row_factory=dict_row) as con, con.cursor() as cur:\n",
    "    cur.execute('SELECT image_md5, laser_task_id FROM images WHERE laser_task_id IS NOT NULL;')\n",
    "    result = cur.fetchall()\n",
    "    lookup = {row['laser_task_id']:row['image_md5'] for row in result}\n",
    "    for task_id, coord in tqdm(coords.items()):\n",
    "        if task_id not in lookup:\n",
    "            bad_task_id.append(task_id)\n",
    "            continue\n",
    "        cksum = lookup[task_id]\n",
    "        import_values.append({\n",
    "            'cksum': cksum,\n",
    "            'x': coord[0],\n",
    "            'y': coord[1]\n",
    "        })\n",
    "    cur.executemany(\n",
    "        'INSERT INTO laser_labels (cksum, x, y) VALUES (%(cksum)s, %(x)s, %(y)s) ON CONFLICT DO NOTHING;',\n",
    "        import_values\n",
    "    )\n",
    "    con.commit()"
   ]
  },
  {
   "cell_type": "code",
   "execution_count": 6,
   "metadata": {},
   "outputs": [],
   "source": [
    "export = get_project_export(\n",
    "    project_id=39,\n",
    "    label_studio_api_key=settings.label_studio.api_key,\n",
    "    label_studio_host=settings.label_studio.host\n",
    ")"
   ]
  },
  {
   "cell_type": "code",
   "execution_count": 19,
   "metadata": {},
   "outputs": [],
   "source": [
    "param_seq = [{\n",
    "                'cksum': Path(urllib.parse.urlparse(task['data']['img']).path).stem,\n",
    "                'x': int(task['annotations'][0]['result'][0]['value']['x'] / 100 *\n",
    "                        task['annotations'][0]['result'][0]['original_width']),\n",
    "                'y': int(task['annotations'][0]['result'][0]['value']['y'] / 100 *\n",
    "                        task['annotations'][0]['result'][0]['original_height'])\n",
    "            }\n",
    "            for task in export\n",
    "            if len(task['annotations']) > 0 and len(task['annotations'][0]['result']) > 0\n",
    "            ]"
   ]
  },
  {
   "cell_type": "code",
   "execution_count": 20,
   "metadata": {},
   "outputs": [],
   "source": [
    "with psycopg.connect(PG_CONN_STR, row_factory=dict_row) as con, con.cursor() as cur:\n",
    "    cur.executemany(\n",
    "        'INSERT INTO laser_labels (cksum, x, y) VALUES (%(cksum)s, %(x)s, %(y)s) ON CONFLICT DO NOTHING;',\n",
    "        param_seq\n",
    "    )\n",
    "    con.commit()"
   ]
  },
  {
   "cell_type": "code",
   "execution_count": null,
   "metadata": {},
   "outputs": [],
   "source": []
  }
 ],
 "metadata": {
  "kernelspec": {
   "display_name": ".venv",
   "language": "python",
   "name": "python3"
  },
  "language_info": {
   "codemirror_mode": {
    "name": "ipython",
    "version": 3
   },
   "file_extension": ".py",
   "mimetype": "text/x-python",
   "name": "python",
   "nbconvert_exporter": "python",
   "pygments_lexer": "ipython3",
   "version": "3.12.3"
  }
 },
 "nbformat": 4,
 "nbformat_minor": 2
}
