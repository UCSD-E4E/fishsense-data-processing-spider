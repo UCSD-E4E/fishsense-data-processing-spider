{
 "cells": [
  {
   "cell_type": "code",
   "execution_count": 35,
   "id": "0589241e",
   "metadata": {},
   "outputs": [],
   "source": [
    "import psycopg\n",
    "import requests\n",
    "from label_studio_sdk.client import LabelStudio\n",
    "from psycopg.rows import dict_row\n",
    "from tqdm.auto import tqdm\n",
    "\n",
    "from fishsense_data_processing_spider.config import PG_CONN_STR, settings"
   ]
  },
  {
   "cell_type": "code",
   "execution_count": 37,
   "id": "191eea5b",
   "metadata": {},
   "outputs": [],
   "source": [
    "dive_checksums_to_promote = [\n",
    "    '68849aca8957a057d667a15cca98522e',\n",
    "    '2b8502abfe2e0820158da616839edd7b',\n",
    "    '54fbd79fbc58460d747d4aa69c716afa'\n",
    "]\n",
    "low_priority_laser_project = 43\n",
    "high_priority_laser_project = 42\n",
    "low_priority_headtail_project = 45\n",
    "high_priority_headtail_project = 44"
   ]
  },
  {
   "cell_type": "code",
   "execution_count": 21,
   "id": "93262f9d",
   "metadata": {},
   "outputs": [],
   "source": [
    "with open('.secrets/n_hui_api_key', 'r', encoding='utf-8') as handle:\n",
    "    fs_api_key = handle.read().strip()"
   ]
  },
  {
   "cell_type": "code",
   "execution_count": 22,
   "id": "96100332",
   "metadata": {},
   "outputs": [],
   "source": [
    "with open(settings.postgres.password_file, 'r', encoding='utf-8') as handle:\n",
    "    pg_pasword = handle.read().strip()"
   ]
  },
  {
   "cell_type": "code",
   "execution_count": 23,
   "id": "05a8c65f",
   "metadata": {},
   "outputs": [],
   "source": [
    "client = LabelStudio(\n",
    "    base_url=f'https://{settings.label_studio.host}',\n",
    "    api_key=settings['label_studio']['api_key']\n",
    ")"
   ]
  },
  {
   "cell_type": "code",
   "execution_count": 25,
   "id": "f2726f25",
   "metadata": {},
   "outputs": [],
   "source": [
    "frames = []\n",
    "with requests.Session() as session:\n",
    "    session.headers.update({\n",
    "        'api_key': fs_api_key\n",
    "    })\n",
    "    for dive in dive_checksums_to_promote:\n",
    "        req = session.get(\n",
    "            url=f'https://orchestrator.fishsense.e4e.ucsd.edu/api/v1/metadata/dive/{dive}'\n",
    "        )\n",
    "        doc = req.json()\n",
    "        frames.extend(doc['frames'])"
   ]
  },
  {
   "cell_type": "code",
   "execution_count": 38,
   "id": "429fb24a",
   "metadata": {},
   "outputs": [],
   "source": [
    "low_priority_laser_tasks = [task\n",
    "                      for task in client.tasks.list(\n",
    "                        project=low_priority_laser_project\n",
    "                      )\n",
    "                      ]\n",
    "low_priority_headtail_tasks = [task\n",
    "                            for task in client.tasks.list(\n",
    "                                project=low_priority_headtail_project\n",
    "                            )\n",
    "                            ]"
   ]
  },
  {
   "cell_type": "code",
   "execution_count": 39,
   "id": "d16273ba",
   "metadata": {},
   "outputs": [],
   "source": [
    "relevant_laser_tasks = {task.data['img'].split('/')[-1]:task\n",
    "                  for task in low_priority_laser_tasks\n",
    "                  if task.data['img'].split('/')[-1] in frames}\n",
    "relevant_headtail_tasks = {task.data['img'].split('/')[-1]: task\n",
    "                           for task in low_priority_headtail_tasks\n",
    "                        if task.data['img'].split('/')[-1] in frames}"
   ]
  },
  {
   "cell_type": "code",
   "execution_count": 40,
   "id": "aa2ba100",
   "metadata": {},
   "outputs": [
    {
     "data": {
      "application/vnd.jupyter.widget-view+json": {
       "model_id": "e602e4015287470a866afa84d0954947",
       "version_major": 2,
       "version_minor": 0
      },
      "text/plain": [
       "0it [00:00, ?it/s]"
      ]
     },
     "metadata": {},
     "output_type": "display_data"
    },
    {
     "data": {
      "application/vnd.jupyter.widget-view+json": {
       "model_id": "3fdc78cd7b2e4307a2846d4dbe9ddf8e",
       "version_major": 2,
       "version_minor": 0
      },
      "text/plain": [
       "  0%|          | 0/9 [00:00<?, ?it/s]"
      ]
     },
     "metadata": {},
     "output_type": "display_data"
    }
   ],
   "source": [
    "new_laser_tasks = []\n",
    "new_headtail_tasks = []\n",
    "with psycopg.connect(PG_CONN_STR) as con, con.cursor() as cur:\n",
    "    for cksum, task in tqdm(relevant_laser_tasks.items()):\n",
    "        if len(task.annotations) > 0:\n",
    "            continue\n",
    "        client.tasks.delete(task.id)\n",
    "        new_task = client.tasks.create(\n",
    "            data=task.data,\n",
    "            project=high_priority_laser_project\n",
    "        )\n",
    "        cur.execute(\n",
    "            query=('UPDATE laser_labels SET task_id = %(id)s WHERE cksum = %(cksum)s;'),\n",
    "            params={\n",
    "                'id': new_task.id,\n",
    "                'cksum': cksum\n",
    "            }\n",
    "        )\n",
    "        new_laser_tasks.append(new_task)\n",
    "    for cksum, task in tqdm(relevant_headtail_tasks.items()):\n",
    "        if len(task.annotations) > 0:\n",
    "            continue\n",
    "        client.tasks.delete(task.id)\n",
    "        new_task = client.tasks.create(\n",
    "            data=task.data,\n",
    "            project=high_priority_headtail_project\n",
    "        )\n",
    "        cur.execute(\n",
    "            query=('UPDATE headtail_labels SET task_id = %(id)s WHERE cksum = %(cksum)s;'),\n",
    "            params={\n",
    "                'id': new_task.id,\n",
    "                'cksum': cksum\n",
    "            }\n",
    "        )\n",
    "        new_headtail_tasks.append(new_task)"
   ]
  },
  {
   "cell_type": "code",
   "execution_count": null,
   "id": "103a76ea",
   "metadata": {},
   "outputs": [],
   "source": []
  }
 ],
 "metadata": {
  "kernelspec": {
   "display_name": ".venv",
   "language": "python",
   "name": "python3"
  },
  "language_info": {
   "codemirror_mode": {
    "name": "ipython",
    "version": 3
   },
   "file_extension": ".py",
   "mimetype": "text/x-python",
   "name": "python",
   "nbconvert_exporter": "python",
   "pygments_lexer": "ipython3",
   "version": "3.12.9"
  }
 },
 "nbformat": 4,
 "nbformat_minor": 5
}
