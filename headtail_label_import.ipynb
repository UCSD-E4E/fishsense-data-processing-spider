{
 "cells": [
  {
   "cell_type": "code",
   "execution_count": 1,
   "metadata": {},
   "outputs": [],
   "source": [
    "import urllib.parse\n",
    "from pathlib import Path\n",
    "\n",
    "import psycopg\n",
    "from psycopg.rows import dict_row\n",
    "from tqdm.auto import tqdm\n",
    "\n",
    "from fishsense_data_processing_spider.backend import get_project_export\n",
    "from fishsense_data_processing_spider.config import PG_CONN_STR, settings"
   ]
  },
  {
   "cell_type": "code",
   "execution_count": 2,
   "metadata": {},
   "outputs": [],
   "source": [
    "export = get_project_export(\n",
    "    project_id=19,\n",
    "    label_studio_api_key=settings.label_studio.api_key,\n",
    "    label_studio_host=settings.label_studio.host\n",
    ")"
   ]
  },
  {
   "cell_type": "code",
   "execution_count": 27,
   "metadata": {},
   "outputs": [],
   "source": [
    "cksums = {task['id']:Path(urllib.parse.urlparse(task['data']['img']).path).stem for task in export}\n",
    "results = {task['id']: task['annotations'][0]['result']\n",
    "           for task in export\n",
    "           if len(task['annotations']) > 0 and len(task['annotations'][0]['result']) > 0}"
   ]
  },
  {
   "cell_type": "code",
   "execution_count": 32,
   "metadata": {},
   "outputs": [],
   "source": [
    "flat_results = {\n",
    "    cksums[task_id]:{\n",
    "        f'{result[0]['value']['keypointlabels'][0]}_x': int(result[0]['value']['x'] / 100 * result[0]['original_width']),\n",
    "        f'{result[0]['value']['keypointlabels'][0]}_y': int(result[0]['value']['y'] / 100 * result[0]['original_height']),\n",
    "        f'{result[1]['value']['keypointlabels'][0]}_x': int(result[1]['value']['x'] / 100 * result[1]['original_width']),\n",
    "        f'{result[1]['value']['keypointlabels'][0]}_y': int(result[1]['value']['y'] / 100 * result[1]['original_height']),\n",
    "    }\n",
    "    for task_id, result in results.items()\n",
    "    if len(result) == 2\n",
    "}"
   ]
  },
  {
   "cell_type": "code",
   "execution_count": 36,
   "metadata": {},
   "outputs": [],
   "source": [
    "params_seq = [\n",
    "    {\n",
    "        'cksum': cksum,\n",
    "        'head_x': coords['Snout_x'],\n",
    "        'head_y': coords['Snout_y'],\n",
    "        'tail_x': coords['Fork_x'],\n",
    "        'tail_y': coords['Fork_y']\n",
    "    }\n",
    "    for cksum, coords in flat_results.items()\n",
    "    if 'Snout_x' in coords\n",
    "]"
   ]
  },
  {
   "cell_type": "code",
   "execution_count": 37,
   "metadata": {},
   "outputs": [],
   "source": [
    "with psycopg.connect(PG_CONN_STR, row_factory=dict_row) as con, con.cursor() as cur:\n",
    "    cur.executemany(\n",
    "        '''\n",
    "INSERT INTO headtail_labels (cksum, head_x, head_y, tail_x, tail_y)\n",
    "VALUES (%(cksum)s, %(head_x)s, %(head_y)s, %(tail_x)s, %(tail_y)s)\n",
    "ON CONFLICT DO NOTHING;\n",
    "        ''',\n",
    "        params_seq\n",
    "    )\n",
    "    con.commit()"
   ]
  },
  {
   "cell_type": "code",
   "execution_count": null,
   "metadata": {},
   "outputs": [],
   "source": []
  }
 ],
 "metadata": {
  "kernelspec": {
   "display_name": ".venv",
   "language": "python",
   "name": "python3"
  },
  "language_info": {
   "codemirror_mode": {
    "name": "ipython",
    "version": 3
   },
   "file_extension": ".py",
   "mimetype": "text/x-python",
   "name": "python",
   "nbconvert_exporter": "python",
   "pygments_lexer": "ipython3",
   "version": "3.12.3"
  }
 },
 "nbformat": 4,
 "nbformat_minor": 2
}
